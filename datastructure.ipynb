{
  "nbformat": 4,
  "nbformat_minor": 0,
  "metadata": {
    "colab": {
      "provenance": []
    },
    "kernelspec": {
      "name": "python3",
      "display_name": "Python 3"
    },
    "language_info": {
      "name": "python"
    }
  },
  "cells": [
    {
      "cell_type": "markdown",
      "source": [
        "# data types and structure theory question\n"
      ],
      "metadata": {
        "id": "--ByfJUDNUSW"
      }
    },
    {
      "cell_type": "markdown",
      "source": [
        "-1. What are data structures and why are they important?\n",
        "-\n",
        "\n",
        "Data structures are ways to organize and store data in a program.\n",
        "They are important because they help in efficient data access, modification, and management.\n",
        "\n",
        "-2. Explain the difference between mutable and immutable data types with examples\n",
        "-\n",
        "Mutable   - Can change after creation (e.g., list, dictionary)\n",
        "\n",
        "Immutable - Cannot change after creation (e.g., string, tuple)\n",
        "- Example:\n",
        "\n",
        "- lst = [1,2]   # mutable\n",
        "- tup = (1,2)   # immutable\n",
        "\n",
        "\n",
        "-3. What are the main differences between lists and tuples in Python?\n",
        "-\n",
        "List - mutable, uses [], size can change\n",
        "\n",
        "Tuple - immutable, uses (), fixed size\n",
        "\n",
        "Tuple is safer for fixed data, list is flexible for changing data\n",
        "\n",
        "-4. Describe how dictionaries store data\n",
        "-\n",
        "\n",
        "Dictionaries store data as key-value pairs\n",
        "\n",
        "Each key is unique and maps to a value\n",
        "Example: {\"name\": \"Alice\", \"age\": 20}\n",
        "\n",
        "-5. Why might you use a set instead of a list in Python?\n",
        "-\n",
        "\n",
        "Sets store only unique values\n",
        "\n",
        "Useful for removing duplicates and checking membership quickly\n",
        "\n",
        "-6. What is a string in Python, and how is it different from a list?\n",
        "-\n",
        "\n",
        "String - sequence of characters, immutable\n",
        "\n",
        "List - sequence of items, mutable, can store different types\n",
        "\n",
        "-7. How do tuples ensure data integrity in Python?\n",
        "-\n",
        "\n",
        "Tuples are immutable, so data cannot be changed after creation\n",
        "\n",
        "Useful for fixed, safe data like coordinates (x, y)\n",
        "\n",
        "-8. What is a hash table, and how does it relate to dictionaries?\n",
        "-\n",
        "\n",
        "Hash table  stores data using keys for fast access\n",
        "\n",
        "Python dictionaries are built using hash tables\n",
        "\n",
        "Makes key lookup very fast (O(1))\n",
        "\n",
        "-9. Can lists contain different data types in Python?\n",
        "-\n",
        "Yes, lists can store numbers, strings, booleans, or even other lists together\n",
        "\n",
        "-10. Explain why strings are immutable in Python\n",
        "-\n",
        "\n",
        "Strings cannot be changed after creation\n",
        "\n",
        "Ensures data safety and predictable behavior\n",
        "\n",
        "-11. What advantages do dictionaries offer over lists for certain tasks?\n",
        "-\n",
        "\n",
        "Fast lookup using keys\n",
        "\n",
        "Stores data as key-value pairs\n",
        "\n",
        "Useful for mapping, searching, and large data\n",
        "\n",
        "-12. Describe a scenario where using a tuple would be preferable over a list\n",
        "-\n",
        "\n",
        "Storing fixed data like coordinates (x, y)\n",
        "\n",
        "When data should not change, tuples ensure safety\n",
        "\n",
        "-13. How do sets handle duplicate values in Python?\n",
        "-\n",
        "\n",
        "Sets automatically remove duplicates\n",
        "\n",
        "Only unique values are stored\n",
        "\n",
        "-14. How does the “in” keyword work differently for lists and dictionaries?\n",
        "-\n",
        "\n",
        "List - in checks if value exists\n",
        "\n",
        "Dictionary - in checks if key exists\n",
        "\n",
        "-15. Can you modify the elements of a tuple? Explain why or why not\n",
        "-\n",
        "No, tuples are immutable, so elements cannot be changed after creation\n",
        "\n",
        "-16. What is a nested dictionary, and give an example of its use case\n",
        "-\n",
        "\n",
        "Dictionary inside another dictionary\n",
        "\n",
        "Example: storing student info with subjects and marks\n",
        "\n",
        "student = {\"Alice\": {\"Math\": 90, \"Science\": 85}}\n",
        "\n",
        "\n",
        "-17. Describe the time complexity of accessing elements in a dictionary\n",
        "-\n",
        "\n",
        "Accessing value by key → O(1) (constant time, very fast)\n",
        "\n",
        "-18. In what situations are lists preferred over dictionaries?\n",
        "-\n",
        "\n",
        "When you need ordered data\n",
        "\n",
        "When sequence matters and keys are not required\n",
        "\n",
        "-19. Why are dictionaries considered unordered, and how does that affect data retrieval?\n",
        "-\n",
        "\n",
        "Dictionaries do not store items in order\n",
        "\n",
        "You cannot access by position, only by key\n",
        "\n",
        "-20. Explain the difference between a list and a dictionary in terms of data retrieval\n",
        "-\n",
        "\n",
        "List - access items by index (position)\n",
        "\n",
        "Dictionary - access items by key (fast lookup)\n"
      ],
      "metadata": {
        "id": "jvALXEOWNjjI"
      }
    },
    {
      "cell_type": "code",
      "source": [
        "# 1. Create a string with your name and print it\n",
        "name = \"Trisha\"\n",
        "print(name)\n"
      ],
      "metadata": {
        "colab": {
          "base_uri": "https://localhost:8080/"
        },
        "id": "0SM_OJOiPXEn",
        "outputId": "1fcd8a7b-0b31-4079-8d86-0560fc173fe0"
      },
      "execution_count": 1,
      "outputs": [
        {
          "output_type": "stream",
          "name": "stdout",
          "text": [
            "Trisha\n"
          ]
        }
      ]
    },
    {
      "cell_type": "code",
      "source": [
        "# 2. Find the length of the string \"Hello World\"\n",
        "text = \"Hello World\"\n",
        "print(len(text))\n"
      ],
      "metadata": {
        "colab": {
          "base_uri": "https://localhost:8080/"
        },
        "id": "n5jO3RhPP9xL",
        "outputId": "cef72528-e2bb-4a05-acd0-be283583c8fe"
      },
      "execution_count": 2,
      "outputs": [
        {
          "output_type": "stream",
          "name": "stdout",
          "text": [
            "11\n"
          ]
        }
      ]
    },
    {
      "cell_type": "code",
      "source": [
        "# 3. Slice the first 3 characters from the string \"Python Programming\"\n",
        "text2 = \"Python Programming\"\n",
        "print(text2[:3])\n"
      ],
      "metadata": {
        "colab": {
          "base_uri": "https://localhost:8080/"
        },
        "id": "-ndJRX9XQAjX",
        "outputId": "9bbc8c96-6af3-4baa-ef11-f3b274493250"
      },
      "execution_count": 3,
      "outputs": [
        {
          "output_type": "stream",
          "name": "stdout",
          "text": [
            "Pyt\n"
          ]
        }
      ]
    },
    {
      "cell_type": "code",
      "source": [
        "# 4. Convert the string \"hello\" to uppercase\n",
        "greet = \"hello\"\n",
        "print(greet.upper())\n"
      ],
      "metadata": {
        "colab": {
          "base_uri": "https://localhost:8080/"
        },
        "id": "GEAp395jQES6",
        "outputId": "b11d6bfd-f4b5-423c-9868-4716fc8ca7f9"
      },
      "execution_count": 4,
      "outputs": [
        {
          "output_type": "stream",
          "name": "stdout",
          "text": [
            "HELLO\n"
          ]
        }
      ]
    },
    {
      "cell_type": "code",
      "source": [
        "# 5. Replace the word \"apple\" with \"orange\" in the string \"I like apple\"\n",
        "sentence = \"I like apple\"\n",
        "print(sentence.replace(\"apple\", \"orange\"))\n"
      ],
      "metadata": {
        "colab": {
          "base_uri": "https://localhost:8080/"
        },
        "id": "15bPT0ZqQO6m",
        "outputId": "d60e9ca2-5f88-44f4-a2e7-27bcd91f8e14"
      },
      "execution_count": 5,
      "outputs": [
        {
          "output_type": "stream",
          "name": "stdout",
          "text": [
            "I like orange\n"
          ]
        }
      ]
    },
    {
      "cell_type": "code",
      "source": [
        "# 6. Create a list with numbers 1 to 5 and print it\n",
        "numbers = [1, 2, 3, 4, 5]\n",
        "print(numbers)\n"
      ],
      "metadata": {
        "colab": {
          "base_uri": "https://localhost:8080/"
        },
        "id": "gVS8-j_FQR41",
        "outputId": "756ff594-a1e2-4c5c-cd83-9d090a662580"
      },
      "execution_count": 6,
      "outputs": [
        {
          "output_type": "stream",
          "name": "stdout",
          "text": [
            "[1, 2, 3, 4, 5]\n"
          ]
        }
      ]
    },
    {
      "cell_type": "code",
      "source": [
        "# 7. Append the number 10 to the list [1, 2, 3, 4]\n",
        "my_list = [1, 2, 3, 4]\n",
        "my_list.append(10)\n",
        "print(my_list)\n"
      ],
      "metadata": {
        "colab": {
          "base_uri": "https://localhost:8080/"
        },
        "id": "6OTzg-1QQU9P",
        "outputId": "3fadf26a-5af9-4353-8dfd-85b3f3324d1e"
      },
      "execution_count": 7,
      "outputs": [
        {
          "output_type": "stream",
          "name": "stdout",
          "text": [
            "[1, 2, 3, 4, 10]\n"
          ]
        }
      ]
    },
    {
      "cell_type": "code",
      "source": [
        "# 8. Remove the number 3 from the list [1, 2, 3, 4, 5]\n",
        "my_list2 = [1, 2, 3, 4, 5]\n",
        "my_list2.remove(3)\n",
        "print(my_list2)\n"
      ],
      "metadata": {
        "colab": {
          "base_uri": "https://localhost:8080/"
        },
        "id": "7MHI6GRWQXOC",
        "outputId": "0546d802-9ec6-4cc3-9f27-28d6d7aeef71"
      },
      "execution_count": 8,
      "outputs": [
        {
          "output_type": "stream",
          "name": "stdout",
          "text": [
            "[1, 2, 4, 5]\n"
          ]
        }
      ]
    },
    {
      "cell_type": "code",
      "source": [
        "# 9. Access the second element in the list ['a', 'b', 'c', 'd']\n",
        "letters = ['a', 'b', 'c', 'd']\n",
        "print(letters[1])\n"
      ],
      "metadata": {
        "colab": {
          "base_uri": "https://localhost:8080/"
        },
        "id": "t43Kwty4Qd4R",
        "outputId": "3c6b574a-f55f-4201-f7e2-1810d1b5c4f7"
      },
      "execution_count": 9,
      "outputs": [
        {
          "output_type": "stream",
          "name": "stdout",
          "text": [
            "b\n"
          ]
        }
      ]
    },
    {
      "cell_type": "code",
      "source": [
        "# 10. Reverse the list [10, 20, 30, 40, 50]\n",
        "nums = [10, 20, 30, 40, 50]\n",
        "nums.reverse()\n",
        "print(nums)\n"
      ],
      "metadata": {
        "id": "BpxzSG5uQjqU",
        "outputId": "8f2e8a5d-1bc3-410e-db8f-8baeb3b26538",
        "colab": {
          "base_uri": "https://localhost:8080/"
        }
      },
      "execution_count": 10,
      "outputs": [
        {
          "output_type": "stream",
          "name": "stdout",
          "text": [
            "[50, 40, 30, 20, 10]\n"
          ]
        }
      ]
    }
  ]
}